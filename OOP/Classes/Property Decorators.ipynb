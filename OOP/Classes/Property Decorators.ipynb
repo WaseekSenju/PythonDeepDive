{
 "cells": [
  {
   "cell_type": "code",
   "execution_count": 2,
   "outputs": [],
   "source": [
    "p = property(lambda self: print('getting property'))"
   ],
   "metadata": {
    "collapsed": false,
    "ExecuteTime": {
     "end_time": "2023-08-30T12:59:57.461957Z",
     "start_time": "2023-08-30T12:59:57.447944100Z"
    }
   },
   "id": "f6768333399c1028"
  },
  {
   "cell_type": "code",
   "execution_count": 3,
   "outputs": [
    {
     "data": {
      "text/plain": "<property at 0x2b320586a40>"
     },
     "execution_count": 3,
     "metadata": {},
     "output_type": "execute_result"
    }
   ],
   "source": [
    "p"
   ],
   "metadata": {
    "collapsed": false,
    "ExecuteTime": {
     "end_time": "2023-08-30T13:00:00.991240400Z",
     "start_time": "2023-08-30T13:00:00.970222300Z"
    }
   },
   "id": "6c401790f5e66fd0"
  },
  {
   "cell_type": "code",
   "execution_count": 5,
   "outputs": [
    {
     "data": {
      "text/plain": "mappingproxy({'__getattribute__': <slot wrapper '__getattribute__' of 'property' objects>,\n              '__get__': <slot wrapper '__get__' of 'property' objects>,\n              '__set__': <slot wrapper '__set__' of 'property' objects>,\n              '__delete__': <slot wrapper '__delete__' of 'property' objects>,\n              '__init__': <slot wrapper '__init__' of 'property' objects>,\n              '__new__': <function property.__new__(*args, **kwargs)>,\n              'getter': <method 'getter' of 'property' objects>,\n              'setter': <method 'setter' of 'property' objects>,\n              'deleter': <method 'deleter' of 'property' objects>,\n              'fget': <member 'fget' of 'property' objects>,\n              'fset': <member 'fset' of 'property' objects>,\n              'fdel': <member 'fdel' of 'property' objects>,\n              '__doc__': <member '__doc__' of 'property' objects>,\n              '__isabstractmethod__': <attribute '__isabstractmethod__' of 'property' objects>})"
     },
     "execution_count": 5,
     "metadata": {},
     "output_type": "execute_result"
    }
   ],
   "source": [
    "property.__dict__"
   ],
   "metadata": {
    "collapsed": false,
    "ExecuteTime": {
     "end_time": "2023-08-30T13:00:16.386695400Z",
     "start_time": "2023-08-30T13:00:16.370680900Z"
    }
   },
   "id": "943e98730e844323"
  },
  {
   "cell_type": "code",
   "execution_count": 6,
   "outputs": [
    {
     "data": {
      "text/plain": "<function __main__.<lambda>(self)>"
     },
     "execution_count": 6,
     "metadata": {},
     "output_type": "execute_result"
    }
   ],
   "source": [
    "p.fget"
   ],
   "metadata": {
    "collapsed": false,
    "ExecuteTime": {
     "end_time": "2023-08-30T13:00:23.419569Z",
     "start_time": "2023-08-30T13:00:23.400553900Z"
    }
   },
   "id": "1a9e867763816c45"
  },
  {
   "cell_type": "code",
   "execution_count": null,
   "outputs": [],
   "source": [],
   "metadata": {
    "collapsed": false
   },
   "id": "4d7455368d4fb041"
  },
  {
   "cell_type": "code",
   "execution_count": 7,
   "outputs": [],
   "source": [
    "def my_decorator(fn):\n",
    "    print('decorating function')\n",
    "    def inner(*args,**kwargs):\n",
    "        print('running decorated function')\n",
    "        return fn(*args, **kwargs)\n",
    "    return inner\n"
   ],
   "metadata": {
    "collapsed": false,
    "ExecuteTime": {
     "end_time": "2023-08-30T13:02:54.229037200Z",
     "start_time": "2023-08-30T13:02:54.215024300Z"
    }
   },
   "id": "c536b376e886ab10"
  },
  {
   "cell_type": "code",
   "execution_count": 8,
   "outputs": [],
   "source": [
    "def undecorated_function(a,b):\n",
    "    print('runnning original fucntion')\n",
    "    return a+b;"
   ],
   "metadata": {
    "collapsed": false,
    "ExecuteTime": {
     "end_time": "2023-08-30T13:03:26.922826700Z",
     "start_time": "2023-08-30T13:03:26.906812500Z"
    }
   },
   "id": "10551cb990a9256e"
  },
  {
   "cell_type": "code",
   "execution_count": 9,
   "outputs": [
    {
     "name": "stdout",
     "output_type": "stream",
     "text": [
      "runnning original fucntion\n"
     ]
    },
    {
     "data": {
      "text/plain": "3"
     },
     "execution_count": 9,
     "metadata": {},
     "output_type": "execute_result"
    }
   ],
   "source": [
    "undecorated_function(1,2)"
   ],
   "metadata": {
    "collapsed": false,
    "ExecuteTime": {
     "end_time": "2023-08-30T13:03:31.498357200Z",
     "start_time": "2023-08-30T13:03:31.481342400Z"
    }
   },
   "id": "64a86b7de9f22710"
  },
  {
   "cell_type": "code",
   "execution_count": 11,
   "outputs": [
    {
     "name": "stdout",
     "output_type": "stream",
     "text": [
      "decorating function\n"
     ]
    }
   ],
   "source": [
    "decorated_func = my_decorator(undecorated_function)"
   ],
   "metadata": {
    "collapsed": false,
    "ExecuteTime": {
     "end_time": "2023-08-30T13:05:32.250584Z",
     "start_time": "2023-08-30T13:05:32.233568700Z"
    }
   },
   "id": "73b90de992a3d1f4"
  },
  {
   "cell_type": "code",
   "execution_count": 12,
   "outputs": [
    {
     "data": {
      "text/plain": "<function __main__.my_decorator.<locals>.inner(*args, **kwargs)>"
     },
     "execution_count": 12,
     "metadata": {},
     "output_type": "execute_result"
    }
   ],
   "source": [
    "decorated_func "
   ],
   "metadata": {
    "collapsed": false,
    "ExecuteTime": {
     "end_time": "2023-08-30T13:05:35.170288800Z",
     "start_time": "2023-08-30T13:05:35.162280600Z"
    }
   },
   "id": "46d3a6640c0a821"
  },
  {
   "cell_type": "code",
   "execution_count": 13,
   "outputs": [
    {
     "name": "stdout",
     "output_type": "stream",
     "text": [
      "running decorated function\n",
      "runnning original fucntion\n"
     ]
    },
    {
     "data": {
      "text/plain": "3"
     },
     "execution_count": 13,
     "metadata": {},
     "output_type": "execute_result"
    }
   ],
   "source": [
    "decorated_func(1,2)"
   ],
   "metadata": {
    "collapsed": false,
    "ExecuteTime": {
     "end_time": "2023-08-30T13:07:50.702391400Z",
     "start_time": "2023-08-30T13:07:50.693385300Z"
    }
   },
   "id": "24b8f120c16cf3c8"
  },
  {
   "cell_type": "code",
   "execution_count": null,
   "outputs": [],
   "source": [],
   "metadata": {
    "collapsed": false
   },
   "id": "936b137f01e8861d"
  }
 ],
 "metadata": {
  "kernelspec": {
   "display_name": "Python 3",
   "language": "python",
   "name": "python3"
  },
  "language_info": {
   "codemirror_mode": {
    "name": "ipython",
    "version": 2
   },
   "file_extension": ".py",
   "mimetype": "text/x-python",
   "name": "python",
   "nbconvert_exporter": "python",
   "pygments_lexer": "ipython2",
   "version": "2.7.6"
  }
 },
 "nbformat": 4,
 "nbformat_minor": 5
}
