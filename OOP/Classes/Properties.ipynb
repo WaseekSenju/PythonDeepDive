{
 "cells": [
  {
   "cell_type": "code",
   "execution_count": 3,
   "id": "initial_id",
   "metadata": {
    "collapsed": true,
    "ExecuteTime": {
     "end_time": "2023-08-25T12:39:24.702254800Z",
     "start_time": "2023-08-25T12:39:24.694247300Z"
    }
   },
   "outputs": [
    {
     "data": {
      "text/plain": "'This is new langauge Java'"
     },
     "execution_count": 3,
     "metadata": {},
     "output_type": "execute_result"
    }
   ],
   "source": [
    "class MyClass:\n",
    "    def __init__(self,language):\n",
    "        self._language = language\n",
    "    \n",
    "    def get_language(self):\n",
    "        return self._language\n",
    "    \n",
    "    def set_language(self,value):\n",
    "         self._language = f'This is new langauge {value}'\n",
    "\n",
    "    language = property(fget= get_language, fset=set_language)\n",
    "\n",
    "m = MyClass('Python')\n",
    "m.set_language('Java')\n",
    "m.language\n"
   ]
  },
  {
   "cell_type": "code",
   "execution_count": null,
   "outputs": [],
   "source": [],
   "metadata": {
    "collapsed": false
   },
   "id": "8160820b2d94948d"
  }
 ],
 "metadata": {
  "kernelspec": {
   "display_name": "Python 3",
   "language": "python",
   "name": "python3"
  },
  "language_info": {
   "codemirror_mode": {
    "name": "ipython",
    "version": 2
   },
   "file_extension": ".py",
   "mimetype": "text/x-python",
   "name": "python",
   "nbconvert_exporter": "python",
   "pygments_lexer": "ipython2",
   "version": "2.7.6"
  }
 },
 "nbformat": 4,
 "nbformat_minor": 5
}
