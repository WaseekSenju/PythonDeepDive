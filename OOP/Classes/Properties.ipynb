{
 "cells": [
  {
   "cell_type": "code",
   "execution_count": 3,
   "id": "initial_id",
   "metadata": {
    "collapsed": true,
    "ExecuteTime": {
     "end_time": "2023-08-25T12:39:24.702254800Z",
     "start_time": "2023-08-25T12:39:24.694247300Z"
    }
   },
   "outputs": [
    {
     "data": {
      "text/plain": "'This is new langauge Java'"
     },
     "execution_count": 3,
     "metadata": {},
     "output_type": "execute_result"
    }
   ],
   "source": [
    "class MyClass:\n",
    "    def __init__(self,language):\n",
    "        self._language = language\n",
    "    \n",
    "    def get_language(self):\n",
    "        return self._language\n",
    "    \n",
    "    def set_language(self,value):\n",
    "         self._language = f'This is new langauge {value}'\n",
    "\n",
    "    language = property(fget= get_language, fset=set_language)\n",
    "\n",
    "m = MyClass('Python')\n",
    "m.set_language('Java')\n",
    "m.language\n"
   ]
  },
  {
   "cell_type": "code",
   "execution_count": 2,
   "outputs": [],
   "source": [
    "class Person:\n",
    "    def __init__(self,name):\n",
    "        self.name = name\n",
    "\n",
    "p  = Person('Alex')"
   ],
   "metadata": {
    "collapsed": false,
    "ExecuteTime": {
     "end_time": "2023-08-26T11:50:31.503560800Z",
     "start_time": "2023-08-26T11:50:31.495548100Z"
    }
   },
   "id": "8160820b2d94948d"
  },
  {
   "cell_type": "code",
   "execution_count": 3,
   "outputs": [
    {
     "data": {
      "text/plain": "{'name': 'Alex'}"
     },
     "execution_count": 3,
     "metadata": {},
     "output_type": "execute_result"
    }
   ],
   "source": [
    "p.__dict__"
   ],
   "metadata": {
    "collapsed": false,
    "ExecuteTime": {
     "end_time": "2023-08-26T11:50:33.890538300Z",
     "start_time": "2023-08-26T11:50:33.878526500Z"
    }
   },
   "id": "e550014c60dee7de"
  },
  {
   "cell_type": "code",
   "execution_count": 4,
   "outputs": [],
   "source": [
    "p.name = ''"
   ],
   "metadata": {
    "collapsed": false,
    "ExecuteTime": {
     "end_time": "2023-08-26T11:50:44.750836500Z",
     "start_time": "2023-08-26T11:50:44.738825300Z"
    }
   },
   "id": "733195bf71291d47"
  },
  {
   "cell_type": "code",
   "execution_count": 5,
   "outputs": [],
   "source": [
    "p.name =100"
   ],
   "metadata": {
    "collapsed": false,
    "ExecuteTime": {
     "end_time": "2023-08-26T11:50:54.338412800Z",
     "start_time": "2023-08-26T11:50:54.326394200Z"
    }
   },
   "id": "11bf6f42e161c9b8"
  },
  {
   "cell_type": "code",
   "execution_count": 25,
   "outputs": [],
   "source": [
    "class Person:\n",
    "    def __init__(self,name):\n",
    "        self.set_name(name)\n",
    "    def get_name(self):\n",
    "        return self._name\n",
    "    def set_name(self,name):\n",
    "        if isinstance(name,str) and len(name.strip()) > 0:\n",
    "            self._name = name.strip()\n",
    "        else:\n",
    "            raise ValueError('name must be non empty string')\n",
    " "
   ],
   "metadata": {
    "collapsed": false,
    "ExecuteTime": {
     "end_time": "2023-08-26T12:47:02.645693100Z",
     "start_time": "2023-08-26T12:47:02.640690900Z"
    }
   },
   "id": "64018650005e8d4b"
  },
  {
   "cell_type": "code",
   "execution_count": 26,
   "outputs": [],
   "source": [
    "p1 = Person('Waseek')"
   ],
   "metadata": {
    "collapsed": false,
    "ExecuteTime": {
     "end_time": "2023-08-26T12:47:03.139982100Z",
     "start_time": "2023-08-26T12:47:03.133977500Z"
    }
   },
   "id": "1fbcf2bdf11170bc"
  },
  {
   "cell_type": "code",
   "execution_count": 32,
   "outputs": [],
   "source": [
    "p3 = Person('1')"
   ],
   "metadata": {
    "collapsed": false,
    "ExecuteTime": {
     "end_time": "2023-08-26T12:48:39.514490100Z",
     "start_time": "2023-08-26T12:48:39.498476700Z"
    }
   },
   "id": "8344ecbe9a9429cd"
  },
  {
   "cell_type": "code",
   "execution_count": 33,
   "outputs": [
    {
     "name": "stdout",
     "output_type": "stream",
     "text": [
      "name must be non empty string\n"
     ]
    }
   ],
   "source": [
    "try:\n",
    "    p3.set_name(100)\n",
    "except ValueError as ex:\n",
    "    print(ex)"
   ],
   "metadata": {
    "collapsed": false,
    "ExecuteTime": {
     "end_time": "2023-08-26T12:48:42.330899Z",
     "start_time": "2023-08-26T12:48:42.321152400Z"
    }
   },
   "id": "94832b2e40177e0e"
  },
  {
   "cell_type": "code",
   "execution_count": 13,
   "outputs": [],
   "source": [
    "class Person:\n",
    "    def __init__(self,name):\n",
    "        self._name = name\n",
    "    def get_name(self):\n",
    "        print('getter called')\n",
    "        return self._name\n",
    "    def set_name(self,name):\n",
    "        print('seeter called')\n",
    "        if isinstance(name,str) and len(name.strip()) > 0:\n",
    "            self._name = name.strip()\n",
    "        else:\n",
    "            raise ValueError('name must be non empty string')\n",
    "    \n",
    "    name = property (fget= get_name, fset= set_name)"
   ],
   "metadata": {
    "collapsed": false,
    "ExecuteTime": {
     "end_time": "2023-08-27T15:48:43.907922400Z",
     "start_time": "2023-08-27T15:48:43.901918300Z"
    }
   },
   "id": "506b6b55e5b42376"
  },
  {
   "cell_type": "code",
   "execution_count": 14,
   "outputs": [],
   "source": [
    "p = Person('Waseek')"
   ],
   "metadata": {
    "collapsed": false,
    "ExecuteTime": {
     "end_time": "2023-08-27T15:48:45.108377400Z",
     "start_time": "2023-08-27T15:48:45.100370100Z"
    }
   },
   "id": "dafbdcc595b0e064"
  },
  {
   "cell_type": "code",
   "execution_count": 15,
   "outputs": [
    {
     "name": "stdout",
     "output_type": "stream",
     "text": [
      "getter called\n"
     ]
    },
    {
     "data": {
      "text/plain": "'Waseek'"
     },
     "execution_count": 15,
     "metadata": {},
     "output_type": "execute_result"
    }
   ],
   "source": [
    "p.name"
   ],
   "metadata": {
    "collapsed": false,
    "ExecuteTime": {
     "end_time": "2023-08-27T15:48:45.528769200Z",
     "start_time": "2023-08-27T15:48:45.515751300Z"
    }
   },
   "id": "95a449a8c8ba688d"
  },
  {
   "cell_type": "code",
   "execution_count": 16,
   "outputs": [
    {
     "name": "stdout",
     "output_type": "stream",
     "text": [
      "seeter called\n"
     ]
    }
   ],
   "source": [
    "p.name = 'Wamiq'"
   ],
   "metadata": {
    "collapsed": false,
    "ExecuteTime": {
     "end_time": "2023-08-27T15:48:57.822528200Z",
     "start_time": "2023-08-27T15:48:57.814521500Z"
    }
   },
   "id": "571034f8b3ece7ce"
  },
  {
   "cell_type": "code",
   "execution_count": 17,
   "outputs": [
    {
     "data": {
      "text/plain": "{'_name': 'Wamiq'}"
     },
     "execution_count": 17,
     "metadata": {},
     "output_type": "execute_result"
    }
   ],
   "source": [
    "p.__dict__"
   ],
   "metadata": {
    "collapsed": false,
    "ExecuteTime": {
     "end_time": "2023-08-27T15:49:08.950675400Z",
     "start_time": "2023-08-27T15:49:08.935661100Z"
    }
   },
   "id": "9d53bde2e3fe3ecc"
  },
  {
   "cell_type": "code",
   "execution_count": 18,
   "outputs": [
    {
     "name": "stdout",
     "output_type": "stream",
     "text": [
      "getter called\n"
     ]
    },
    {
     "data": {
      "text/plain": "'Salman'"
     },
     "execution_count": 18,
     "metadata": {},
     "output_type": "execute_result"
    }
   ],
   "source": [
    "p = Person(\"Salman\")\n",
    "p.name"
   ],
   "metadata": {
    "collapsed": false,
    "ExecuteTime": {
     "end_time": "2023-08-27T15:50:28.560284500Z",
     "start_time": "2023-08-27T15:50:28.546273100Z"
    }
   },
   "id": "db36904750446ac4"
  },
  {
   "cell_type": "code",
   "execution_count": 19,
   "outputs": [
    {
     "data": {
      "text/plain": "{'_name': 'Salman'}"
     },
     "execution_count": 19,
     "metadata": {},
     "output_type": "execute_result"
    }
   ],
   "source": [
    "p.__dict__"
   ],
   "metadata": {
    "collapsed": false,
    "ExecuteTime": {
     "end_time": "2023-08-27T15:50:35.335112500Z",
     "start_time": "2023-08-27T15:50:35.323101800Z"
    }
   },
   "id": "357adc13cd497d00"
  },
  {
   "cell_type": "code",
   "execution_count": 20,
   "outputs": [
    {
     "data": {
      "text/plain": "'Salman'"
     },
     "execution_count": 20,
     "metadata": {},
     "output_type": "execute_result"
    }
   ],
   "source": [
    "p.__dict__['_name']"
   ],
   "metadata": {
    "collapsed": false,
    "ExecuteTime": {
     "end_time": "2023-08-27T15:50:47.643210900Z",
     "start_time": "2023-08-27T15:50:47.618188200Z"
    }
   },
   "id": "97785c630246561c"
  },
  {
   "cell_type": "code",
   "execution_count": 21,
   "outputs": [],
   "source": [
    " p.__dict__['name'] = 'Waseek'\n"
   ],
   "metadata": {
    "collapsed": false,
    "ExecuteTime": {
     "end_time": "2023-08-27T15:51:52.215412900Z",
     "start_time": "2023-08-27T15:51:52.204402400Z"
    }
   },
   "id": "9a742ac26f9112d4"
  },
  {
   "cell_type": "code",
   "execution_count": 22,
   "outputs": [
    {
     "data": {
      "text/plain": "{'_name': 'Salman', 'name': 'Waseek'}"
     },
     "execution_count": 22,
     "metadata": {},
     "output_type": "execute_result"
    }
   ],
   "source": [
    "p.__dict__"
   ],
   "metadata": {
    "collapsed": false,
    "ExecuteTime": {
     "end_time": "2023-08-27T15:51:58.259955200Z",
     "start_time": "2023-08-27T15:51:58.238935900Z"
    }
   },
   "id": "ccd101b3636afbf"
  },
  {
   "cell_type": "code",
   "execution_count": 23,
   "outputs": [
    {
     "name": "stdout",
     "output_type": "stream",
     "text": [
      "getter called\n"
     ]
    },
    {
     "data": {
      "text/plain": "'Salman'"
     },
     "execution_count": 23,
     "metadata": {},
     "output_type": "execute_result"
    }
   ],
   "source": [
    "p.name #we still get Salman!!! Python will use the class level property this is called masking"
   ],
   "metadata": {
    "collapsed": false,
    "ExecuteTime": {
     "end_time": "2023-08-27T15:52:02.715007Z",
     "start_time": "2023-08-27T15:52:02.697992200Z"
    }
   },
   "id": "d263ae15c4b3193"
  },
  {
   "cell_type": "code",
   "execution_count": 30,
   "outputs": [],
   "source": [
    "class Person:\n",
    "    \"\"\"This is a person object\"\"\"\n",
    "    def __init__(self,name):\n",
    "        self._name = name\n",
    "    def get_name(self):\n",
    "        print('getter called')\n",
    "        return self._name\n",
    "    def set_name(self,name):\n",
    "        print('seeter called')\n",
    "        if isinstance(name,str) and len(name.strip()) > 0:\n",
    "            self._name = name.strip()\n",
    "        else:\n",
    "            raise ValueError('name must be non empty string')\n",
    "    \n",
    "    def del_name(self):\n",
    "        print('deleter called')\n",
    "        del self._name\n",
    "        \n",
    "    name = property (fget= get_name, fset= set_name, fdel= del_name , doc = \"The person's name\")"
   ],
   "metadata": {
    "collapsed": false,
    "ExecuteTime": {
     "end_time": "2023-08-27T15:56:31.168639400Z",
     "start_time": "2023-08-27T15:56:31.146617100Z"
    }
   },
   "id": "41d9384431d9f5c9"
  },
  {
   "cell_type": "code",
   "execution_count": 28,
   "outputs": [],
   "source": [
    "p = Person(\"waseek\")"
   ],
   "metadata": {
    "collapsed": false,
    "ExecuteTime": {
     "end_time": "2023-08-27T15:54:11.529338900Z",
     "start_time": "2023-08-27T15:54:11.508319400Z"
    }
   },
   "id": "db12b9a2adfe3d1a"
  },
  {
   "cell_type": "code",
   "execution_count": 29,
   "outputs": [
    {
     "name": "stdout",
     "output_type": "stream",
     "text": [
      "deleter called\n"
     ]
    }
   ],
   "source": [
    "del p.name"
   ],
   "metadata": {
    "collapsed": false,
    "ExecuteTime": {
     "end_time": "2023-08-27T15:54:21.838809100Z",
     "start_time": "2023-08-27T15:54:21.818791700Z"
    }
   },
   "id": "7db37c5934670e54"
  },
  {
   "cell_type": "code",
   "execution_count": 31,
   "outputs": [
    {
     "name": "stdout",
     "output_type": "stream",
     "text": [
      "Help on class Person in module __main__:\n",
      "\n",
      "class Person(builtins.object)\n",
      " |  Person(name)\n",
      " |  \n",
      " |  This is a person object\n",
      " |  \n",
      " |  Methods defined here:\n",
      " |  \n",
      " |  __init__(self, name)\n",
      " |      Initialize self.  See help(type(self)) for accurate signature.\n",
      " |  \n",
      " |  del_name(self)\n",
      " |  \n",
      " |  get_name(self)\n",
      " |  \n",
      " |  set_name(self, name)\n",
      " |  \n",
      " |  ----------------------------------------------------------------------\n",
      " |  Data descriptors defined here:\n",
      " |  \n",
      " |  __dict__\n",
      " |      dictionary for instance variables (if defined)\n",
      " |  \n",
      " |  __weakref__\n",
      " |      list of weak references to the object (if defined)\n",
      " |  \n",
      " |  name\n",
      " |      The person's name\n"
     ]
    }
   ],
   "source": [
    "help(Person)"
   ],
   "metadata": {
    "collapsed": false,
    "ExecuteTime": {
     "end_time": "2023-08-27T15:56:32.796117Z",
     "start_time": "2023-08-27T15:56:32.774096800Z"
    }
   },
   "id": "dcc142acd88ba0c"
  },
  {
   "cell_type": "code",
   "execution_count": null,
   "outputs": [],
   "source": [],
   "metadata": {
    "collapsed": false
   },
   "id": "4697975ae778670a"
  }
 ],
 "metadata": {
  "kernelspec": {
   "display_name": "Python 3",
   "language": "python",
   "name": "python3"
  },
  "language_info": {
   "codemirror_mode": {
    "name": "ipython",
    "version": 2
   },
   "file_extension": ".py",
   "mimetype": "text/x-python",
   "name": "python",
   "nbconvert_exporter": "python",
   "pygments_lexer": "ipython2",
   "version": "2.7.6"
  }
 },
 "nbformat": 4,
 "nbformat_minor": 5
}
