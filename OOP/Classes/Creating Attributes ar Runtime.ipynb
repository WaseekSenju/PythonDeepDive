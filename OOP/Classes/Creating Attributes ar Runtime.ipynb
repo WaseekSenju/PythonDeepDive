{
 "cells": [
  {
   "cell_type": "markdown",
   "source": [],
   "metadata": {
    "collapsed": false
   },
   "id": "c81890865903d9ac"
  },
  {
   "cell_type": "code",
   "execution_count": 1,
   "outputs": [],
   "source": [
    "from types import MethodType\n",
    "\n",
    "class Person:\n",
    "    def __init__(self,name):\n",
    "        self.name = name\n",
    "    \n",
    "    def register_do_work(self,func):\n",
    "        setattr(self,'_do_work',MethodType(func,self))\n",
    "        \n",
    "    def do_work(self):\n",
    "        do_work_method = getattr(self,'_do_work',None)\n",
    "        \n",
    "        if do_work_method:\n",
    "            return do_work_method()\n",
    "        else:\n",
    "            raise AttributeError('You must first register a do_work method')\n",
    "        "
   ],
   "metadata": {
    "collapsed": false,
    "ExecuteTime": {
     "end_time": "2023-08-25T17:58:58.785734900Z",
     "start_time": "2023-08-25T17:58:58.754304300Z"
    }
   },
   "id": "28cb1a3eecac4445"
  },
  {
   "cell_type": "code",
   "execution_count": 2,
   "outputs": [],
   "source": [
    "math_teacher = Person('Waseek')\n",
    "english_teacher = Person('Arthur')\n"
   ],
   "metadata": {
    "collapsed": false,
    "ExecuteTime": {
     "end_time": "2023-08-25T18:00:16.628540200Z",
     "start_time": "2023-08-25T18:00:16.583654900Z"
    }
   },
   "id": "92e7f9b1b10b4a81"
  },
  {
   "cell_type": "code",
   "execution_count": 3,
   "outputs": [
    {
     "ename": "AttributeError",
     "evalue": "You must first register a do_work method",
     "output_type": "error",
     "traceback": [
      "\u001B[1;31m---------------------------------------------------------------------------\u001B[0m",
      "\u001B[1;31mAttributeError\u001B[0m                            Traceback (most recent call last)",
      "Cell \u001B[1;32mIn[3], line 1\u001B[0m\n\u001B[1;32m----> 1\u001B[0m \u001B[43mmath_teacher\u001B[49m\u001B[38;5;241;43m.\u001B[39;49m\u001B[43mdo_work\u001B[49m\u001B[43m(\u001B[49m\u001B[43m)\u001B[49m\n",
      "Cell \u001B[1;32mIn[1], line 16\u001B[0m, in \u001B[0;36mPerson.do_work\u001B[1;34m(self)\u001B[0m\n\u001B[0;32m     14\u001B[0m     \u001B[38;5;28;01mreturn\u001B[39;00m do_work_method()\n\u001B[0;32m     15\u001B[0m \u001B[38;5;28;01melse\u001B[39;00m:\n\u001B[1;32m---> 16\u001B[0m     \u001B[38;5;28;01mraise\u001B[39;00m \u001B[38;5;167;01mAttributeError\u001B[39;00m(\u001B[38;5;124m'\u001B[39m\u001B[38;5;124mYou must first register a do_work method\u001B[39m\u001B[38;5;124m'\u001B[39m)\n",
      "\u001B[1;31mAttributeError\u001B[0m: You must first register a do_work method"
     ]
    }
   ],
   "source": [
    "math_teacher.do_work()"
   ],
   "metadata": {
    "collapsed": false,
    "ExecuteTime": {
     "end_time": "2023-08-25T10:49:00.348227800Z",
     "start_time": "2023-08-25T10:48:59.937854900Z"
    }
   },
   "id": "ea4666fcef300185"
  },
  {
   "cell_type": "code",
   "execution_count": 5,
   "outputs": [],
   "source": [
    "def work_math(self):\n",
    "    return f'{self.name} will teach calculus today'"
   ],
   "metadata": {
    "collapsed": false,
    "ExecuteTime": {
     "end_time": "2023-08-25T10:54:32.430814Z",
     "start_time": "2023-08-25T10:54:32.422807500Z"
    }
   },
   "id": "212d2f8f09ce829c"
  },
  {
   "cell_type": "code",
   "execution_count": 6,
   "outputs": [],
   "source": [
    "math_teacher.register_do_work(work_math)"
   ],
   "metadata": {
    "collapsed": false,
    "ExecuteTime": {
     "end_time": "2023-08-25T10:54:33.764026Z",
     "start_time": "2023-08-25T10:54:33.756019Z"
    }
   },
   "id": "693bed39897997ea"
  },
  {
   "cell_type": "code",
   "execution_count": 9,
   "outputs": [
    {
     "data": {
      "text/plain": "'Waseek will teach calculus today'"
     },
     "execution_count": 9,
     "metadata": {},
     "output_type": "execute_result"
    }
   ],
   "source": [
    "math_teacher.do_work()"
   ],
   "metadata": {
    "collapsed": false,
    "ExecuteTime": {
     "end_time": "2023-08-25T10:56:08.391359600Z",
     "start_time": "2023-08-25T10:56:08.370341200Z"
    }
   },
   "id": "c3840b1a01948fe7"
  },
  {
   "cell_type": "code",
   "execution_count": 10,
   "outputs": [],
   "source": [
    "def work_english(self):\n",
    "    return f'{self.name} will analyze Hamlet today'\n"
   ],
   "metadata": {
    "collapsed": false,
    "ExecuteTime": {
     "end_time": "2023-08-25T10:57:44.289735300Z",
     "start_time": "2023-08-25T10:57:44.268717400Z"
    }
   },
   "id": "e86b43355f92213f"
  },
  {
   "cell_type": "code",
   "execution_count": 11,
   "outputs": [],
   "source": [
    "english_teacher.register_do_work(work_english)"
   ],
   "metadata": {
    "collapsed": false,
    "ExecuteTime": {
     "end_time": "2023-08-25T10:57:45.563895500Z",
     "start_time": "2023-08-25T10:57:45.555888200Z"
    }
   },
   "id": "42912749351bbd71"
  },
  {
   "cell_type": "code",
   "execution_count": 12,
   "outputs": [
    {
     "data": {
      "text/plain": "'Arthur will analyze Hamlet today'"
     },
     "execution_count": 12,
     "metadata": {},
     "output_type": "execute_result"
    }
   ],
   "source": [
    "english_teacher.do_work()"
   ],
   "metadata": {
    "collapsed": false,
    "ExecuteTime": {
     "end_time": "2023-08-25T10:57:46.287551800Z",
     "start_time": "2023-08-25T10:57:46.278543600Z"
    }
   },
   "id": "6edb1ef2bd2ef3ea"
  },
  {
   "cell_type": "code",
   "execution_count": 13,
   "outputs": [],
   "source": [
    "persons = [english_teacher,math_teacher] # Asal paisy is cheez k hain"
   ],
   "metadata": {
    "collapsed": false,
    "ExecuteTime": {
     "end_time": "2023-08-25T10:59:29.680101900Z",
     "start_time": "2023-08-25T10:59:29.675097300Z"
    }
   },
   "id": "5af3fec0f13e57ff"
  },
  {
   "cell_type": "code",
   "execution_count": 15,
   "outputs": [
    {
     "name": "stdout",
     "output_type": "stream",
     "text": [
      "Arthur will analyze Hamlet today\n",
      "Waseek will teach calculus today\n"
     ]
    }
   ],
   "source": [
    "for p in persons:\n",
    "    print(p.do_work())"
   ],
   "metadata": {
    "collapsed": false,
    "ExecuteTime": {
     "end_time": "2023-08-25T10:59:40.791204400Z",
     "start_time": "2023-08-25T10:59:40.773188700Z"
    }
   },
   "id": "51713b2e0a39902"
  },
  {
   "cell_type": "code",
   "execution_count": null,
   "outputs": [],
   "source": [],
   "metadata": {
    "collapsed": false
   },
   "id": "ea438ba4ec14f2a"
  }
 ],
 "metadata": {
  "kernelspec": {
   "display_name": "Python 3",
   "language": "python",
   "name": "python3"
  },
  "language_info": {
   "codemirror_mode": {
    "name": "ipython",
    "version": 2
   },
   "file_extension": ".py",
   "mimetype": "text/x-python",
   "name": "python",
   "nbconvert_exporter": "python",
   "pygments_lexer": "ipython2",
   "version": "2.7.6"
  }
 },
 "nbformat": 4,
 "nbformat_minor": 5
}
