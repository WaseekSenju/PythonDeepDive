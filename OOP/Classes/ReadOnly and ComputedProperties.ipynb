{
 "cells": [
  {
   "cell_type": "code",
   "execution_count": 4,
   "id": "initial_id",
   "metadata": {
    "collapsed": true,
    "ExecuteTime": {
     "end_time": "2023-08-30T16:15:21.158096800Z",
     "start_time": "2023-08-30T16:15:21.147168500Z"
    }
   },
   "outputs": [],
   "source": [
    "from math import pi\n",
    "\n",
    "class Circle:\n",
    "    def __init__(self,radius):\n",
    "        self.radius = radius\n",
    "        \n",
    "    @property\n",
    "    def area(self):\n",
    "        print('calculating area')\n",
    "        return pi * (self.radius **2)\n"
   ]
  },
  {
   "cell_type": "code",
   "execution_count": 6,
   "outputs": [],
   "source": [
    "c = Circle(3)"
   ],
   "metadata": {
    "collapsed": false,
    "ExecuteTime": {
     "end_time": "2023-08-30T13:29:01.792626300Z",
     "start_time": "2023-08-30T13:29:01.786620200Z"
    }
   },
   "id": "4f4f7f4fba0c4ca8"
  },
  {
   "cell_type": "code",
   "execution_count": 7,
   "outputs": [
    {
     "data": {
      "text/plain": "3"
     },
     "execution_count": 7,
     "metadata": {},
     "output_type": "execute_result"
    }
   ],
   "source": [
    "c.radius"
   ],
   "metadata": {
    "collapsed": false,
    "ExecuteTime": {
     "end_time": "2023-08-30T13:29:02.111916700Z",
     "start_time": "2023-08-30T13:29:02.102907900Z"
    }
   },
   "id": "3bd5278e4f690144"
  },
  {
   "cell_type": "code",
   "execution_count": 8,
   "outputs": [
    {
     "name": "stdout",
     "output_type": "stream",
     "text": [
      "calculating area\n"
     ]
    },
    {
     "data": {
      "text/plain": "28.274333882308138"
     },
     "execution_count": 8,
     "metadata": {},
     "output_type": "execute_result"
    }
   ],
   "source": [
    "c.area # the problem right now is area is calculated again adn again"
   ],
   "metadata": {
    "collapsed": false,
    "ExecuteTime": {
     "end_time": "2023-08-30T13:29:02.720469800Z",
     "start_time": "2023-08-30T13:29:02.712463500Z"
    }
   },
   "id": "c2ab889bf2b3ff86"
  },
  {
   "cell_type": "code",
   "execution_count": 1,
   "outputs": [],
   "source": [
    "class Circle:\n",
    "    def __init__(self,radius):\n",
    "        self._radius = radius\n",
    "        self._area = None\n",
    "    @property\n",
    "    def radius(self):\n",
    "        return self._radius\n",
    "    \n",
    "    @radius.setter\n",
    "    def radius(self,value):\n",
    "        self._area = None\n",
    "        self._radius = value\n",
    "    \n",
    "    @property\n",
    "    def area(self):\n",
    "        if self._area is None:\n",
    "            print('calculating area...')\n",
    "            self._area = pi *(self.radius **2)\n",
    "        return self._area\n",
    "    #now we have cached the area\n",
    "        \n",
    "        "
   ],
   "metadata": {
    "collapsed": false,
    "ExecuteTime": {
     "end_time": "2023-08-30T16:15:06.043435500Z",
     "start_time": "2023-08-30T16:15:06.032465200Z"
    }
   },
   "id": "41f6a0014043604a"
  },
  {
   "cell_type": "code",
   "execution_count": 5,
   "outputs": [],
   "source": [
    "c = Circle(2)"
   ],
   "metadata": {
    "collapsed": false,
    "ExecuteTime": {
     "end_time": "2023-08-30T16:15:25.181876700Z",
     "start_time": "2023-08-30T16:15:25.157197600Z"
    }
   },
   "id": "b4f7cfb9d5edd59a"
  },
  {
   "cell_type": "code",
   "execution_count": 6,
   "outputs": [
    {
     "name": "stdout",
     "output_type": "stream",
     "text": [
      "calculating area\n"
     ]
    },
    {
     "data": {
      "text/plain": "12.566370614359172"
     },
     "execution_count": 6,
     "metadata": {},
     "output_type": "execute_result"
    }
   ],
   "source": [
    "c.area"
   ],
   "metadata": {
    "collapsed": false,
    "ExecuteTime": {
     "end_time": "2023-08-30T16:15:25.672002500Z",
     "start_time": "2023-08-30T16:15:25.643180900Z"
    }
   },
   "id": "4c8e1c00f66b3738"
  },
  {
   "cell_type": "code",
   "execution_count": 7,
   "outputs": [
    {
     "name": "stdout",
     "output_type": "stream",
     "text": [
      "calculating area\n"
     ]
    },
    {
     "data": {
      "text/plain": "12.566370614359172"
     },
     "execution_count": 7,
     "metadata": {},
     "output_type": "execute_result"
    }
   ],
   "source": [
    "c.area"
   ],
   "metadata": {
    "collapsed": false,
    "ExecuteTime": {
     "end_time": "2023-08-30T16:15:26.659331900Z",
     "start_time": "2023-08-30T16:15:26.639414800Z"
    }
   },
   "id": "e5590326fa074a96"
  },
  {
   "cell_type": "code",
   "execution_count": 9,
   "outputs": [],
   "source": [
    "c.radius = 2\n"
   ],
   "metadata": {
    "collapsed": false,
    "ExecuteTime": {
     "end_time": "2023-08-30T16:15:29.792811700Z",
     "start_time": "2023-08-30T16:15:29.770868900Z"
    }
   },
   "id": "ca80f71cb362ef17"
  },
  {
   "cell_type": "code",
   "execution_count": 10,
   "outputs": [
    {
     "data": {
      "text/plain": "{'radius': 2}"
     },
     "execution_count": 10,
     "metadata": {},
     "output_type": "execute_result"
    }
   ],
   "source": [
    "c.__dict__\n",
    "#lazy building is crazy!"
   ],
   "metadata": {
    "collapsed": false,
    "ExecuteTime": {
     "end_time": "2023-08-30T16:15:30.347131500Z",
     "start_time": "2023-08-30T16:15:30.326449200Z"
    }
   },
   "id": "14b1159b21c9a831"
  },
  {
   "cell_type": "code",
   "execution_count": 11,
   "outputs": [
    {
     "name": "stdout",
     "output_type": "stream",
     "text": [
      "calculating area\n"
     ]
    },
    {
     "data": {
      "text/plain": "12.566370614359172"
     },
     "execution_count": 11,
     "metadata": {},
     "output_type": "execute_result"
    }
   ],
   "source": [
    "c.area"
   ],
   "metadata": {
    "collapsed": false,
    "ExecuteTime": {
     "end_time": "2023-08-30T16:15:31.371907800Z",
     "start_time": "2023-08-30T16:15:31.346620900Z"
    }
   },
   "id": "1e6538253f048f53"
  },
  {
   "cell_type": "code",
   "execution_count": 12,
   "outputs": [],
   "source": [
    "import urllib\n",
    "from time import perf_counter"
   ],
   "metadata": {
    "collapsed": false,
    "ExecuteTime": {
     "end_time": "2023-08-30T16:15:33.906449700Z",
     "start_time": "2023-08-30T16:15:33.887234300Z"
    }
   },
   "id": "19e6e93a1fdd328b"
  },
  {
   "cell_type": "code",
   "execution_count": 13,
   "outputs": [],
   "source": [
    "class WebPage:\n",
    "    def __init__(self, url):\n",
    "        self.url = url\n",
    "        self._page = None\n",
    "        self._load_time_secs = None\n",
    "        self._page_size = None\n",
    "    \n",
    "    @property\n",
    "    def url(self):\n",
    "        return self._url\n",
    "    \n",
    "    @url.setter\n",
    "    def url(self,value):\n",
    "        self._url = value\n",
    "        self._page = None\n",
    "    \n",
    "    @property\n",
    "    def page(self):\n",
    "        if self._page is None:\n",
    "            self.download_page()\n",
    "        return self._page\n",
    "\n",
    "    @property\n",
    "    def page_size(self):\n",
    "        if self. _page is None:\n",
    "            self.download_page()\n",
    "        return self._page_size\n",
    "    @property\n",
    "    def time_eplased(self):\n",
    "        if self._page is None:\n",
    "            self.download_page()\n",
    "        return self._load_time_secs\n",
    "    \n",
    "    def download_page(self):\n",
    "        self._page_size = None\n",
    "        self._load_time_secs = None\n",
    "        start_time = perf_counter()\n",
    "        with urllib.request.urlopen(self.url) as f:\n",
    "            self._page = f.read()\n",
    "        end_time = perf_counter()\n",
    "        self._page_size = len(self._page)\n",
    "        self._load_time_secs = end_time - start_time     "
   ],
   "metadata": {
    "collapsed": false,
    "ExecuteTime": {
     "end_time": "2023-08-30T16:15:34.264203800Z",
     "start_time": "2023-08-30T16:15:34.252717600Z"
    }
   },
   "id": "2ef49e0b475b12bf"
  },
  {
   "cell_type": "code",
   "execution_count": 18,
   "outputs": [],
   "source": [
    "urls = [\n",
    "    'https://www.google.com',\n",
    "    'https://www.python.org',\n",
    "]"
   ],
   "metadata": {
    "collapsed": false,
    "ExecuteTime": {
     "end_time": "2023-08-30T16:16:13.722506700Z",
     "start_time": "2023-08-30T16:16:13.681516200Z"
    }
   },
   "id": "7b447716be0fb8a7"
  },
  {
   "cell_type": "code",
   "execution_count": 19,
   "outputs": [
    {
     "name": "stdout",
     "output_type": "stream",
     "text": [
      "https://www.google.com\t size=19462\t elapsed = 0.81 secs \n",
      "https://www.python.org\t size=50115\t elapsed = 0.22 secs \n"
     ]
    }
   ],
   "source": [
    "for url in urls:\n",
    "    page = WebPage(url)\n",
    "    print(f'{url}\\t size={format(page.page_size,\"-\")}\\t elapsed = {page.time_eplased:.2f} secs ')"
   ],
   "metadata": {
    "collapsed": false,
    "ExecuteTime": {
     "end_time": "2023-08-30T16:16:14.928883200Z",
     "start_time": "2023-08-30T16:16:13.901951800Z"
    }
   },
   "id": "6feaf1833b929da2"
  },
  {
   "cell_type": "code",
   "execution_count": null,
   "outputs": [],
   "source": [],
   "metadata": {
    "collapsed": false
   },
   "id": "a35795b8f610488c"
  }
 ],
 "metadata": {
  "kernelspec": {
   "display_name": "Python 3",
   "language": "python",
   "name": "python3"
  },
  "language_info": {
   "codemirror_mode": {
    "name": "ipython",
    "version": 2
   },
   "file_extension": ".py",
   "mimetype": "text/x-python",
   "name": "python",
   "nbconvert_exporter": "python",
   "pygments_lexer": "ipython2",
   "version": "2.7.6"
  }
 },
 "nbformat": 4,
 "nbformat_minor": 5
}
