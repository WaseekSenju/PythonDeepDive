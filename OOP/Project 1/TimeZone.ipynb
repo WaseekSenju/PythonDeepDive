{
 "cells": [
  {
   "cell_type": "code",
   "execution_count": 71,
   "outputs": [],
   "source": [
    "import numbers\n",
    "from datetime import timedelta\n",
    "import itertools\n",
    "\n",
    "class TimeZone:\n",
    "    def __init__(self,name, offset_hours, offset_minutes):\n",
    "        if name is None or len(str(name).strip()) ==0:\n",
    "             raise ValueError ('Timezone name can\\'t be empty')\n",
    "        \n",
    "        self._name = str.strip(name).strip()\n",
    "        \n",
    "        if not isinstance(offset_hours,numbers.Integral):\n",
    "            raise ValueError ('Hours offset must be an Integer')\n",
    "        \n",
    "        if not isinstance(offset_minutes , numbers.Integral):\n",
    "            raise ValueError('Minute offset must be an integer')\n",
    "        \n",
    "        if offset_minutes > 59 or offset_minutes < -59:\n",
    "            raise ValueError('Minutes offset must be between -59 and 59 inclusive')\n",
    "        \n",
    "        \n",
    "        offset = timedelta(hours= offset_hours , minutes= offset_minutes)\n",
    "        \n",
    "        if offset < timedelta(hours=-12  , minutes=0) or offset > timedelta(hours = 14 , minutes=0):\n",
    "            raise ValueError('Offset must be between -12:00 and +14:00.')\n",
    "        \n",
    "        self._offset_hours = offset_hours\n",
    "        self._offset_minutes = offset_minutes\n",
    "        self._offset = offset\n",
    "        \n",
    "    @property\n",
    "    def offset(self):\n",
    "        return self._offset\n",
    "    \n",
    "    @property\n",
    "    def name(self):\n",
    "        return self._name\n",
    "    \n",
    "    def __eq__(self, other):\n",
    "        return (isinstance(other,TimeZone) and \n",
    "                self.name == other.name and \n",
    "                self._offset_hours == other._offset_hours and\n",
    "                self._offset_minutes == other._offset_minutes)\n",
    "    \n",
    "    def __repr__(self):\n",
    "        return (\n",
    "            f\"TimeZone(name ='{self.name}', \"\n",
    "            f\"offset_hours={self._offset_hours}, \"\n",
    "            f\"offset_minutes={self._offset_minutes})\"\n",
    "        ) "
   ],
   "metadata": {
    "collapsed": false,
    "ExecuteTime": {
     "end_time": "2023-09-03T13:42:16.383286800Z",
     "start_time": "2023-09-03T13:42:16.365435600Z"
    }
   },
   "id": "737da3a70a9ba04a"
  },
  {
   "cell_type": "code",
   "execution_count": 91,
   "outputs": [],
   "source": [
    "class Account:\n",
    "    transaction_counter =  itertools.count(100)\n",
    "    \n",
    "    def __init__(self, account_number,first_name,last_name,):\n",
    "        self._account_number = account_number\n",
    "        self.first_name = first_name\n",
    "        self.last_name = last_name\n",
    "        \n",
    "        \n",
    "    @property\n",
    "    def account_number(self):\n",
    "        return self._account_number\n",
    "    \n",
    "    @property\n",
    "    def first_name(self):\n",
    "        return self._first_name\n",
    "    \n",
    "    @first_name.setter\n",
    "    def first_name(self,value): \n",
    "        self._first_name = Account.validate_name(value,'First Name')\n",
    "        \n",
    "    @property\n",
    "    def last_name(self):\n",
    "        return self._last_name\n",
    "    \n",
    "    @last_name.setter\n",
    "    def last_name(self,value):\n",
    "        self._last_name = Account.validate_name(value,'Last Name')\n",
    "        \n",
    "    @staticmethod\n",
    "    def validate_name(value,field_title):\n",
    "        if value is None or len(str(value).strip()) == 0:\n",
    "            raise ValueError(f'{field_title} can\\'t be empty')\n",
    "        return str(value).strip()\n",
    "        "
   ],
   "metadata": {
    "collapsed": false,
    "ExecuteTime": {
     "end_time": "2023-09-03T14:19:22.626147200Z",
     "start_time": "2023-09-03T14:19:22.616093100Z"
    }
   },
   "id": "4cf9e511d28f9d50"
  },
  {
   "cell_type": "code",
   "execution_count": 92,
   "outputs": [
    {
     "name": "stdout",
     "output_type": "stream",
     "text": [
      "Last Name can't be empty\n"
     ]
    }
   ],
   "source": [
    "try:\n",
    "    ac1 = Account(1,'Waseek',None)\n",
    "except ValueError as e:\n",
    "    print(e)"
   ],
   "metadata": {
    "collapsed": false,
    "ExecuteTime": {
     "end_time": "2023-09-03T14:19:24.319625500Z",
     "start_time": "2023-09-03T14:19:24.287615400Z"
    }
   },
   "id": "2d716b4a4cb9d56f"
  },
  {
   "cell_type": "code",
   "execution_count": 83,
   "outputs": [
    {
     "data": {
      "text/plain": "1"
     },
     "execution_count": 83,
     "metadata": {},
     "output_type": "execute_result"
    }
   ],
   "source": [
    "ac1.account_number"
   ],
   "metadata": {
    "collapsed": false,
    "ExecuteTime": {
     "end_time": "2023-09-03T14:13:46.035180500Z",
     "start_time": "2023-09-03T14:13:45.945789600Z"
    }
   },
   "id": "218e3c70f45177a6"
  },
  {
   "cell_type": "code",
   "execution_count": 84,
   "outputs": [
    {
     "ename": "AttributeError",
     "evalue": "property 'account_number' of 'Account' object has no setter",
     "output_type": "error",
     "traceback": [
      "\u001B[1;31m---------------------------------------------------------------------------\u001B[0m",
      "\u001B[1;31mAttributeError\u001B[0m                            Traceback (most recent call last)",
      "Cell \u001B[1;32mIn[84], line 1\u001B[0m\n\u001B[1;32m----> 1\u001B[0m ac1\u001B[38;5;241m.\u001B[39maccount_number \u001B[38;5;241m=\u001B[39m \u001B[38;5;241m15\u001B[39m\n",
      "\u001B[1;31mAttributeError\u001B[0m: property 'account_number' of 'Account' object has no setter"
     ]
    }
   ],
   "source": [
    "ac1.account_number = 15"
   ],
   "metadata": {
    "collapsed": false,
    "ExecuteTime": {
     "end_time": "2023-09-03T14:14:00.657972600Z",
     "start_time": "2023-09-03T14:14:00.617540400Z"
    }
   },
   "id": "7bf0f8495d294be8"
  },
  {
   "cell_type": "code",
   "execution_count": null,
   "outputs": [],
   "source": [],
   "metadata": {
    "collapsed": false
   },
   "id": "96ebb5e36c4b4fb6"
  },
  {
   "cell_type": "code",
   "execution_count": 91,
   "outputs": [],
   "source": [
    "class Account:\n",
    "    transaction_counter =  itertools.count(100)\n",
    "    \n",
    "    def __init__(self, account_number,first_name,last_name,):\n",
    "        self._account_number = account_number\n",
    "        self.first_name = first_name\n",
    "        self.last_name = last_name\n",
    "        \n",
    "        \n",
    "    @property\n",
    "    def account_number(self):\n",
    "        return self._account_number\n",
    "    \n",
    "    @property\n",
    "    def first_name(self):\n",
    "        return self._first_name\n",
    "    \n",
    "    @first_name.setter\n",
    "    def first_name(self,value): \n",
    "        self._first_name = Account.validate_name(value,'First Name')\n",
    "        \n",
    "    @property\n",
    "    def last_name(self):\n",
    "        return self._last_name\n",
    "    \n",
    "    @last_name.setter\n",
    "    def last_name(self,value):\n",
    "        self._last_name = Account.validate_name(value,'Last Name')\n",
    "        \n",
    "    @staticmethod\n",
    "    def validate_name(value,field_title):\n",
    "        if value is None or len(str(value).strip()) == 0:\n",
    "            raise ValueError(f'{field_title} can\\'t be empty')\n",
    "        return str(value).strip()\n",
    "        "
   ],
   "metadata": {
    "collapsed": false
   },
   "id": "42a26dc5eee09343"
  }
 ],
 "metadata": {
  "kernelspec": {
   "display_name": "Python 3",
   "language": "python",
   "name": "python3"
  },
  "language_info": {
   "codemirror_mode": {
    "name": "ipython",
    "version": 2
   },
   "file_extension": ".py",
   "mimetype": "text/x-python",
   "name": "python",
   "nbconvert_exporter": "python",
   "pygments_lexer": "ipython2",
   "version": "2.7.6"
  }
 },
 "nbformat": 4,
 "nbformat_minor": 5
}
